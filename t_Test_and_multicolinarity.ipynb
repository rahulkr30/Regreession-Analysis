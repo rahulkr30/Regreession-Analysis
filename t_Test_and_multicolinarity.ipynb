{
 "cells": [
  {
   "cell_type": "code",
   "execution_count": 112,
   "metadata": {},
   "outputs": [],
   "source": [
    "import pandas as pd\n",
    "import numpy as np \n",
    "import scipy.stats as stats\n",
    "import statsmodels.api as sm"
   ]
  },
  {
   "cell_type": "code",
   "execution_count": 109,
   "metadata": {},
   "outputs": [
    {
     "name": "stdout",
     "output_type": "stream",
     "text": [
      "XᵀX is not invertible (ill-conditioned) without regularization\n",
      "Inverse of XᵀX with regularization:\n",
      " [[ 8.00285307 -3.99429387]\n",
      " [-3.99429387  2.01141227]]\n"
     ]
    }
   ],
   "source": [
    "\n",
    "X = np.array([\n",
    "    [1, 2],\n",
    "    [2, 4],\n",
    "    [3, 6]\n",
    "])\n",
    "\n",
    "# X.TX without regularization\n",
    "XtX = np.dot(X.T, X)\n",
    "\n",
    "# Attempt to compute the inverse of XTX without regularization\n",
    "try:\n",
    "    XtX_inv = np.linalg.inv(XtX)\n",
    "    print(\"Inverse of XᵀX without regularization:\\n\", XtX_inv)\n",
    "except np.linalg.LinAlgError:\n",
    "    print(\"XᵀX is not invertible (ill-conditioned) without regularization\")\n",
    "\n",
    "# Add regularization term to XTX\n",
    "lambda_value = 0.1\n",
    "XtX_reg = XtX + lambda_value * np.identity(XtX.shape[0])\n",
    "\n",
    "# regularization\n",
    "XtX_reg_inv = np.linalg.inv(XtX_reg)\n",
    "print(\"Inverse of XᵀX with regularization:\\n\", XtX_reg_inv)"
   ]
  },
  {
   "attachments": {},
   "cell_type": "markdown",
   "metadata": {},
   "source": [
    "# Multicollinarity "
   ]
  },
  {
   "cell_type": "code",
   "execution_count": 114,
   "metadata": {},
   "outputs": [
    {
     "name": "stdout",
     "output_type": "stream",
     "text": [
      "   X1  X2          X3  X4  X5          X6  X7  X8          X9  X10  \\\n",
      "0  51  25   61.846293   1  15   14.911594  61  11   51.977924   88   \n",
      "1  92  88  175.793547  89  50  144.493884  64  89  158.477138   96   \n",
      "2  14  59   69.572855  16  85  105.127082  31  45   79.122026   59   \n",
      "3  71  40  102.977227  32  56   92.067548  33  33   65.320729   42   \n",
      "4  60  28   86.387143   8  28   42.527394  91  48  140.898595   75   \n",
      "\n",
      "             y  \n",
      "0  2669.871395  \n",
      "1  6890.710548  \n",
      "2  3908.463366  \n",
      "3  3513.919056  \n",
      "4  4470.026129  \n"
     ]
    }
   ],
   "source": [
    "import numpy as np\n",
    "import pandas as pd\n",
    "\n",
    "# Set random seed for reproducibility\n",
    "np.random.seed(42)\n",
    "\n",
    "# Number of samples\n",
    "n = 100\n",
    "\n",
    "# Generate random values for predictor variables\n",
    "X1 = np.random.randint(0, 100, n)\n",
    "X2 = np.random.randint(0, 100, n)\n",
    "X3 = X1 + X2 + np.random.normal(0, 10, n)  # X3 exhibits multicollinearity with X1 and X2\n",
    "X4 = np.random.randint(0, 100, n)\n",
    "X5 = np.random.randint(0, 100, n)\n",
    "X6 = X4 + X5 + np.random.normal(0, 5, n)  # X6 exhibits multicollinearity with X4 and X5\n",
    "X7 = np.random.randint(0, 100, n)\n",
    "X8 = np.random.randint(0, 100, n)\n",
    "X9 = X7 + X8 + np.random.normal(0, 8, n)  # X9 exhibits multicollinearity with X7 and X8\n",
    "X10 = np.random.randint(0, 100, n)\n",
    "\n",
    "# Generate random values for the response variable\n",
    "y = 2*X1 + 3*X2 + 4*X3 + 5*X4 + 6*X5 + 7*X6 + 8*X7 + 9*X8 + 10*X9 + 11*X10 + np.random.normal(0, 20, n)\n",
    "\n",
    "# Create a DataFrame with predictor and response variables\n",
    "data = pd.DataFrame({'X1': X1, 'X2': X2, 'X3': X3, 'X4': X4, 'X5': X5,\n",
    "                     'X6': X6, 'X7': X7, 'X8': X8, 'X9': X9, 'X10': X10, 'y': y})\n",
    "\n",
    "# Print the first few rows of the dataset\n",
    "print(data.head())\n"
   ]
  },
  {
   "cell_type": "code",
   "execution_count": 115,
   "metadata": {},
   "outputs": [],
   "source": [
    "X=data.iloc[:,:-1]\n",
    "y=data.iloc[:,-1:]"
   ]
  },
  {
   "cell_type": "code",
   "execution_count": 51,
   "metadata": {},
   "outputs": [],
   "source": [
    "x=sm.add_constant(X)\n",
    "model = sm.OLS (y,X).fit()"
   ]
  },
  {
   "cell_type": "code",
   "execution_count": 52,
   "metadata": {},
   "outputs": [
    {
     "name": "stdout",
     "output_type": "stream",
     "text": [
      "                                 OLS Regression Results                                \n",
      "=======================================================================================\n",
      "Dep. Variable:                      y   R-squared (uncentered):                   1.000\n",
      "Model:                            OLS   Adj. R-squared (uncentered):              1.000\n",
      "Method:                 Least Squares   F-statistic:                          4.500e+05\n",
      "Date:                Thu, 08 Jun 2023   Prob (F-statistic):                   7.42e-207\n",
      "Time:                        00:37:11   Log-Likelihood:                         -440.26\n",
      "No. Observations:                 100   AIC:                                      900.5\n",
      "Df Residuals:                      90   BIC:                                      926.6\n",
      "Df Model:                          10                                                  \n",
      "Covariance Type:            nonrobust                                                  \n",
      "==============================================================================\n",
      "                 coef    std err          t      P>|t|      [0.025      0.975]\n",
      "------------------------------------------------------------------------------\n",
      "X1             2.3721      0.243      9.753      0.000       1.889       2.855\n",
      "X2             3.3281      0.231     14.407      0.000       2.869       3.787\n",
      "X3             3.7429      0.231     16.226      0.000       3.285       4.201\n",
      "X4             4.3796      0.503      8.708      0.000       3.380       5.379\n",
      "X5             5.3849      0.505     10.659      0.000       4.381       6.389\n",
      "X6             7.5130      0.499     15.049      0.000       6.521       8.505\n",
      "X7             8.0838      0.255     31.688      0.000       7.577       8.591\n",
      "X8             8.9966      0.257     35.019      0.000       8.486       9.507\n",
      "X9             9.9958      0.249     40.069      0.000       9.500      10.491\n",
      "X10           10.9898      0.082    133.705      0.000      10.826      11.153\n",
      "==============================================================================\n",
      "Omnibus:                        7.709   Durbin-Watson:                   2.105\n",
      "Prob(Omnibus):                  0.021   Jarque-Bera (JB):                9.908\n",
      "Skew:                          -0.375   Prob(JB):                      0.00705\n",
      "Kurtosis:                       4.348   Cond. No.                         93.2\n",
      "==============================================================================\n",
      "\n",
      "Notes:\n",
      "[1] R² is computed without centering (uncentered) since the model does not contain a constant.\n",
      "[2] Standard Errors assume that the covariance matrix of the errors is correctly specified.\n"
     ]
    }
   ],
   "source": [
    "print(model.summary())"
   ]
  },
  {
   "cell_type": "code",
   "execution_count": null,
   "metadata": {},
   "outputs": [],
   "source": []
  },
  {
   "cell_type": "code",
   "execution_count": 110,
   "metadata": {},
   "outputs": [
    {
     "ename": "AttributeError",
     "evalue": "'numpy.ndarray' object has no attribute 'corr'",
     "output_type": "error",
     "traceback": [
      "\u001b[1;31m---------------------------------------------------------------------------\u001b[0m",
      "\u001b[1;31mAttributeError\u001b[0m                            Traceback (most recent call last)",
      "\u001b[1;32md:\\python\\Disscusion session\\Lr_assumption.ipynb Cell 9\u001b[0m in \u001b[0;36m<module>\u001b[1;34m\u001b[0m\n\u001b[0;32m      <a href='vscode-notebook-cell:/d%3A/python/Disscusion%20session/Lr_assumption.ipynb#X13sZmlsZQ%3D%3D?line=0'>1</a>\u001b[0m threshold \u001b[39m=\u001b[39m \u001b[39m0.5\u001b[39m\n\u001b[1;32m----> <a href='vscode-notebook-cell:/d%3A/python/Disscusion%20session/Lr_assumption.ipynb#X13sZmlsZQ%3D%3D?line=1'>2</a>\u001b[0m corr\u001b[39m=\u001b[39mX\u001b[39m.\u001b[39;49mcorr()\n\u001b[0;32m      <a href='vscode-notebook-cell:/d%3A/python/Disscusion%20session/Lr_assumption.ipynb#X13sZmlsZQ%3D%3D?line=2'>3</a>\u001b[0m \u001b[39mfor\u001b[39;00m i \u001b[39min\u001b[39;00m \u001b[39mrange\u001b[39m(corr\u001b[39m.\u001b[39mshape[\u001b[39m0\u001b[39m]):\n\u001b[0;32m      <a href='vscode-notebook-cell:/d%3A/python/Disscusion%20session/Lr_assumption.ipynb#X13sZmlsZQ%3D%3D?line=3'>4</a>\u001b[0m     \u001b[39mfor\u001b[39;00m j \u001b[39min\u001b[39;00m \u001b[39mrange\u001b[39m(i\u001b[39m+\u001b[39m\u001b[39m1\u001b[39m, corr\u001b[39m.\u001b[39mshape[\u001b[39m1\u001b[39m]):\n",
      "\u001b[1;31mAttributeError\u001b[0m: 'numpy.ndarray' object has no attribute 'corr'"
     ]
    }
   ],
   "source": [
    "threshold = 0.5\n",
    "corr=X.corr()\n",
    "for i in range(corr.shape[0]):\n",
    "    for j in range(i+1, corr.shape[1]):\n",
    "        if abs(corr.iloc[i, j]) > threshold:\n",
    "            print(\"Multicollinearity detecte between\", corr.columns[i],\n",
    "                  \"and\", corr.columns[j])\n"
   ]
  },
  {
   "cell_type": "code",
   "execution_count": 55,
   "metadata": {},
   "outputs": [
    {
     "data": {
      "application/vnd.plotly.v1+json": {
       "config": {
        "plotlyServerURL": "https://plot.ly"
       },
       "data": [
        {
         "coloraxis": "coloraxis",
         "hovertemplate": "x: %{x}<br>y: %{y}<br>color: %{z}<extra></extra>",
         "name": "0",
         "type": "heatmap",
         "x": [
          "X1",
          "X2",
          "X3",
          "X4",
          "X5",
          "X6",
          "X7",
          "X8",
          "X9",
          "X10"
         ],
         "xaxis": "x",
         "y": [
          "X1",
          "X2",
          "X3",
          "X4",
          "X5",
          "X6",
          "X7",
          "X8",
          "X9",
          "X10"
         ],
         "yaxis": "y",
         "z": [
          [
           1,
           0.09142750621756321,
           0.7360428211667446,
           0.15346625399182914,
           0.027159926860185552,
           0.15713906004072714,
           0.06320729199159758,
           0.06496713364340853,
           0.07354861218845699,
           0.0982562950528252
          ],
          [
           0.09142750621756321,
           1,
           0.7076298226920986,
           0.22517319109043474,
           -0.029066068165731592,
           0.15556156152522777,
           0.017729139700623904,
           0.05254067081352256,
           0.04965103576469567,
           0.010125586350964961
          ],
          [
           0.7360428211667446,
           0.7076298226920986,
           1,
           0.25726445556304534,
           -0.0098297709987336,
           0.2105437804669888,
           0.06405813590070014,
           0.09665208873360956,
           0.09707771425431501,
           0.10689640895794633
          ],
          [
           0.15346625399182914,
           0.22517319109043474,
           0.25726445556304534,
           1,
           -0.292279934104973,
           0.5676304531719015,
           -0.12599890894298404,
           -0.0016281004412098613,
           -0.07827334480510967,
           -0.20244453511658325
          ],
          [
           0.027159926860185552,
           -0.029066068165731592,
           -0.0098297709987336,
           -0.292279934104973,
           1,
           0.6124036601449491,
           -0.01715404553718428,
           0.08430726041322376,
           0.02307466815511776,
           0.05512086656596242
          ],
          [
           0.15713906004072714,
           0.15556156152522777,
           0.2105437804669888,
           0.5676304531719015,
           0.6124036601449491,
           1,
           -0.13472023009053996,
           0.07031052484523158,
           -0.05622531560802599,
           -0.09486729012378846
          ],
          [
           0.06320729199159758,
           0.017729139700623904,
           0.06405813590070014,
           -0.12599890894298404,
           -0.01715404553718428,
           -0.13472023009053996,
           1,
           0.08811189133210141,
           0.7223630918382337,
           0.29732507301566286
          ],
          [
           0.06496713364340853,
           0.05254067081352256,
           0.09665208873360956,
           -0.0016281004412098613,
           0.08430726041322376,
           0.07031052484523158,
           0.08811189133210141,
           1,
           0.7243348526822013,
           0.15331549655105178
          ],
          [
           0.07354861218845699,
           0.04965103576469567,
           0.09707771425431501,
           -0.07827334480510967,
           0.02307466815511776,
           -0.05622531560802599,
           0.7223630918382337,
           0.7243348526822013,
           1,
           0.3139404424844884
          ],
          [
           0.0982562950528252,
           0.010125586350964961,
           0.10689640895794633,
           -0.20244453511658325,
           0.05512086656596242,
           -0.09486729012378846,
           0.29732507301566286,
           0.15331549655105178,
           0.3139404424844884,
           1
          ]
         ]
        }
       ],
       "layout": {
        "coloraxis": {
         "colorscale": [
          [
           0,
           "#0d0887"
          ],
          [
           0.1111111111111111,
           "#46039f"
          ],
          [
           0.2222222222222222,
           "#7201a8"
          ],
          [
           0.3333333333333333,
           "#9c179e"
          ],
          [
           0.4444444444444444,
           "#bd3786"
          ],
          [
           0.5555555555555556,
           "#d8576b"
          ],
          [
           0.6666666666666666,
           "#ed7953"
          ],
          [
           0.7777777777777778,
           "#fb9f3a"
          ],
          [
           0.8888888888888888,
           "#fdca26"
          ],
          [
           1,
           "#f0f921"
          ]
         ]
        },
        "margin": {
         "t": 60
        },
        "template": {
         "data": {
          "bar": [
           {
            "error_x": {
             "color": "#2a3f5f"
            },
            "error_y": {
             "color": "#2a3f5f"
            },
            "marker": {
             "line": {
              "color": "#E5ECF6",
              "width": 0.5
             },
             "pattern": {
              "fillmode": "overlay",
              "size": 10,
              "solidity": 0.2
             }
            },
            "type": "bar"
           }
          ],
          "barpolar": [
           {
            "marker": {
             "line": {
              "color": "#E5ECF6",
              "width": 0.5
             },
             "pattern": {
              "fillmode": "overlay",
              "size": 10,
              "solidity": 0.2
             }
            },
            "type": "barpolar"
           }
          ],
          "carpet": [
           {
            "aaxis": {
             "endlinecolor": "#2a3f5f",
             "gridcolor": "white",
             "linecolor": "white",
             "minorgridcolor": "white",
             "startlinecolor": "#2a3f5f"
            },
            "baxis": {
             "endlinecolor": "#2a3f5f",
             "gridcolor": "white",
             "linecolor": "white",
             "minorgridcolor": "white",
             "startlinecolor": "#2a3f5f"
            },
            "type": "carpet"
           }
          ],
          "choropleth": [
           {
            "colorbar": {
             "outlinewidth": 0,
             "ticks": ""
            },
            "type": "choropleth"
           }
          ],
          "contour": [
           {
            "colorbar": {
             "outlinewidth": 0,
             "ticks": ""
            },
            "colorscale": [
             [
              0,
              "#0d0887"
             ],
             [
              0.1111111111111111,
              "#46039f"
             ],
             [
              0.2222222222222222,
              "#7201a8"
             ],
             [
              0.3333333333333333,
              "#9c179e"
             ],
             [
              0.4444444444444444,
              "#bd3786"
             ],
             [
              0.5555555555555556,
              "#d8576b"
             ],
             [
              0.6666666666666666,
              "#ed7953"
             ],
             [
              0.7777777777777778,
              "#fb9f3a"
             ],
             [
              0.8888888888888888,
              "#fdca26"
             ],
             [
              1,
              "#f0f921"
             ]
            ],
            "type": "contour"
           }
          ],
          "contourcarpet": [
           {
            "colorbar": {
             "outlinewidth": 0,
             "ticks": ""
            },
            "type": "contourcarpet"
           }
          ],
          "heatmap": [
           {
            "colorbar": {
             "outlinewidth": 0,
             "ticks": ""
            },
            "colorscale": [
             [
              0,
              "#0d0887"
             ],
             [
              0.1111111111111111,
              "#46039f"
             ],
             [
              0.2222222222222222,
              "#7201a8"
             ],
             [
              0.3333333333333333,
              "#9c179e"
             ],
             [
              0.4444444444444444,
              "#bd3786"
             ],
             [
              0.5555555555555556,
              "#d8576b"
             ],
             [
              0.6666666666666666,
              "#ed7953"
             ],
             [
              0.7777777777777778,
              "#fb9f3a"
             ],
             [
              0.8888888888888888,
              "#fdca26"
             ],
             [
              1,
              "#f0f921"
             ]
            ],
            "type": "heatmap"
           }
          ],
          "heatmapgl": [
           {
            "colorbar": {
             "outlinewidth": 0,
             "ticks": ""
            },
            "colorscale": [
             [
              0,
              "#0d0887"
             ],
             [
              0.1111111111111111,
              "#46039f"
             ],
             [
              0.2222222222222222,
              "#7201a8"
             ],
             [
              0.3333333333333333,
              "#9c179e"
             ],
             [
              0.4444444444444444,
              "#bd3786"
             ],
             [
              0.5555555555555556,
              "#d8576b"
             ],
             [
              0.6666666666666666,
              "#ed7953"
             ],
             [
              0.7777777777777778,
              "#fb9f3a"
             ],
             [
              0.8888888888888888,
              "#fdca26"
             ],
             [
              1,
              "#f0f921"
             ]
            ],
            "type": "heatmapgl"
           }
          ],
          "histogram": [
           {
            "marker": {
             "pattern": {
              "fillmode": "overlay",
              "size": 10,
              "solidity": 0.2
             }
            },
            "type": "histogram"
           }
          ],
          "histogram2d": [
           {
            "colorbar": {
             "outlinewidth": 0,
             "ticks": ""
            },
            "colorscale": [
             [
              0,
              "#0d0887"
             ],
             [
              0.1111111111111111,
              "#46039f"
             ],
             [
              0.2222222222222222,
              "#7201a8"
             ],
             [
              0.3333333333333333,
              "#9c179e"
             ],
             [
              0.4444444444444444,
              "#bd3786"
             ],
             [
              0.5555555555555556,
              "#d8576b"
             ],
             [
              0.6666666666666666,
              "#ed7953"
             ],
             [
              0.7777777777777778,
              "#fb9f3a"
             ],
             [
              0.8888888888888888,
              "#fdca26"
             ],
             [
              1,
              "#f0f921"
             ]
            ],
            "type": "histogram2d"
           }
          ],
          "histogram2dcontour": [
           {
            "colorbar": {
             "outlinewidth": 0,
             "ticks": ""
            },
            "colorscale": [
             [
              0,
              "#0d0887"
             ],
             [
              0.1111111111111111,
              "#46039f"
             ],
             [
              0.2222222222222222,
              "#7201a8"
             ],
             [
              0.3333333333333333,
              "#9c179e"
             ],
             [
              0.4444444444444444,
              "#bd3786"
             ],
             [
              0.5555555555555556,
              "#d8576b"
             ],
             [
              0.6666666666666666,
              "#ed7953"
             ],
             [
              0.7777777777777778,
              "#fb9f3a"
             ],
             [
              0.8888888888888888,
              "#fdca26"
             ],
             [
              1,
              "#f0f921"
             ]
            ],
            "type": "histogram2dcontour"
           }
          ],
          "mesh3d": [
           {
            "colorbar": {
             "outlinewidth": 0,
             "ticks": ""
            },
            "type": "mesh3d"
           }
          ],
          "parcoords": [
           {
            "line": {
             "colorbar": {
              "outlinewidth": 0,
              "ticks": ""
             }
            },
            "type": "parcoords"
           }
          ],
          "pie": [
           {
            "automargin": true,
            "type": "pie"
           }
          ],
          "scatter": [
           {
            "fillpattern": {
             "fillmode": "overlay",
             "size": 10,
             "solidity": 0.2
            },
            "type": "scatter"
           }
          ],
          "scatter3d": [
           {
            "line": {
             "colorbar": {
              "outlinewidth": 0,
              "ticks": ""
             }
            },
            "marker": {
             "colorbar": {
              "outlinewidth": 0,
              "ticks": ""
             }
            },
            "type": "scatter3d"
           }
          ],
          "scattercarpet": [
           {
            "marker": {
             "colorbar": {
              "outlinewidth": 0,
              "ticks": ""
             }
            },
            "type": "scattercarpet"
           }
          ],
          "scattergeo": [
           {
            "marker": {
             "colorbar": {
              "outlinewidth": 0,
              "ticks": ""
             }
            },
            "type": "scattergeo"
           }
          ],
          "scattergl": [
           {
            "marker": {
             "colorbar": {
              "outlinewidth": 0,
              "ticks": ""
             }
            },
            "type": "scattergl"
           }
          ],
          "scattermapbox": [
           {
            "marker": {
             "colorbar": {
              "outlinewidth": 0,
              "ticks": ""
             }
            },
            "type": "scattermapbox"
           }
          ],
          "scatterpolar": [
           {
            "marker": {
             "colorbar": {
              "outlinewidth": 0,
              "ticks": ""
             }
            },
            "type": "scatterpolar"
           }
          ],
          "scatterpolargl": [
           {
            "marker": {
             "colorbar": {
              "outlinewidth": 0,
              "ticks": ""
             }
            },
            "type": "scatterpolargl"
           }
          ],
          "scatterternary": [
           {
            "marker": {
             "colorbar": {
              "outlinewidth": 0,
              "ticks": ""
             }
            },
            "type": "scatterternary"
           }
          ],
          "surface": [
           {
            "colorbar": {
             "outlinewidth": 0,
             "ticks": ""
            },
            "colorscale": [
             [
              0,
              "#0d0887"
             ],
             [
              0.1111111111111111,
              "#46039f"
             ],
             [
              0.2222222222222222,
              "#7201a8"
             ],
             [
              0.3333333333333333,
              "#9c179e"
             ],
             [
              0.4444444444444444,
              "#bd3786"
             ],
             [
              0.5555555555555556,
              "#d8576b"
             ],
             [
              0.6666666666666666,
              "#ed7953"
             ],
             [
              0.7777777777777778,
              "#fb9f3a"
             ],
             [
              0.8888888888888888,
              "#fdca26"
             ],
             [
              1,
              "#f0f921"
             ]
            ],
            "type": "surface"
           }
          ],
          "table": [
           {
            "cells": {
             "fill": {
              "color": "#EBF0F8"
             },
             "line": {
              "color": "white"
             }
            },
            "header": {
             "fill": {
              "color": "#C8D4E3"
             },
             "line": {
              "color": "white"
             }
            },
            "type": "table"
           }
          ]
         },
         "layout": {
          "annotationdefaults": {
           "arrowcolor": "#2a3f5f",
           "arrowhead": 0,
           "arrowwidth": 1
          },
          "autotypenumbers": "strict",
          "coloraxis": {
           "colorbar": {
            "outlinewidth": 0,
            "ticks": ""
           }
          },
          "colorscale": {
           "diverging": [
            [
             0,
             "#8e0152"
            ],
            [
             0.1,
             "#c51b7d"
            ],
            [
             0.2,
             "#de77ae"
            ],
            [
             0.3,
             "#f1b6da"
            ],
            [
             0.4,
             "#fde0ef"
            ],
            [
             0.5,
             "#f7f7f7"
            ],
            [
             0.6,
             "#e6f5d0"
            ],
            [
             0.7,
             "#b8e186"
            ],
            [
             0.8,
             "#7fbc41"
            ],
            [
             0.9,
             "#4d9221"
            ],
            [
             1,
             "#276419"
            ]
           ],
           "sequential": [
            [
             0,
             "#0d0887"
            ],
            [
             0.1111111111111111,
             "#46039f"
            ],
            [
             0.2222222222222222,
             "#7201a8"
            ],
            [
             0.3333333333333333,
             "#9c179e"
            ],
            [
             0.4444444444444444,
             "#bd3786"
            ],
            [
             0.5555555555555556,
             "#d8576b"
            ],
            [
             0.6666666666666666,
             "#ed7953"
            ],
            [
             0.7777777777777778,
             "#fb9f3a"
            ],
            [
             0.8888888888888888,
             "#fdca26"
            ],
            [
             1,
             "#f0f921"
            ]
           ],
           "sequentialminus": [
            [
             0,
             "#0d0887"
            ],
            [
             0.1111111111111111,
             "#46039f"
            ],
            [
             0.2222222222222222,
             "#7201a8"
            ],
            [
             0.3333333333333333,
             "#9c179e"
            ],
            [
             0.4444444444444444,
             "#bd3786"
            ],
            [
             0.5555555555555556,
             "#d8576b"
            ],
            [
             0.6666666666666666,
             "#ed7953"
            ],
            [
             0.7777777777777778,
             "#fb9f3a"
            ],
            [
             0.8888888888888888,
             "#fdca26"
            ],
            [
             1,
             "#f0f921"
            ]
           ]
          },
          "colorway": [
           "#636efa",
           "#EF553B",
           "#00cc96",
           "#ab63fa",
           "#FFA15A",
           "#19d3f3",
           "#FF6692",
           "#B6E880",
           "#FF97FF",
           "#FECB52"
          ],
          "font": {
           "color": "#2a3f5f"
          },
          "geo": {
           "bgcolor": "white",
           "lakecolor": "white",
           "landcolor": "#E5ECF6",
           "showlakes": true,
           "showland": true,
           "subunitcolor": "white"
          },
          "hoverlabel": {
           "align": "left"
          },
          "hovermode": "closest",
          "mapbox": {
           "style": "light"
          },
          "paper_bgcolor": "white",
          "plot_bgcolor": "#E5ECF6",
          "polar": {
           "angularaxis": {
            "gridcolor": "white",
            "linecolor": "white",
            "ticks": ""
           },
           "bgcolor": "#E5ECF6",
           "radialaxis": {
            "gridcolor": "white",
            "linecolor": "white",
            "ticks": ""
           }
          },
          "scene": {
           "xaxis": {
            "backgroundcolor": "#E5ECF6",
            "gridcolor": "white",
            "gridwidth": 2,
            "linecolor": "white",
            "showbackground": true,
            "ticks": "",
            "zerolinecolor": "white"
           },
           "yaxis": {
            "backgroundcolor": "#E5ECF6",
            "gridcolor": "white",
            "gridwidth": 2,
            "linecolor": "white",
            "showbackground": true,
            "ticks": "",
            "zerolinecolor": "white"
           },
           "zaxis": {
            "backgroundcolor": "#E5ECF6",
            "gridcolor": "white",
            "gridwidth": 2,
            "linecolor": "white",
            "showbackground": true,
            "ticks": "",
            "zerolinecolor": "white"
           }
          },
          "shapedefaults": {
           "line": {
            "color": "#2a3f5f"
           }
          },
          "ternary": {
           "aaxis": {
            "gridcolor": "white",
            "linecolor": "white",
            "ticks": ""
           },
           "baxis": {
            "gridcolor": "white",
            "linecolor": "white",
            "ticks": ""
           },
           "bgcolor": "#E5ECF6",
           "caxis": {
            "gridcolor": "white",
            "linecolor": "white",
            "ticks": ""
           }
          },
          "title": {
           "x": 0.05
          },
          "xaxis": {
           "automargin": true,
           "gridcolor": "white",
           "linecolor": "white",
           "ticks": "",
           "title": {
            "standoff": 15
           },
           "zerolinecolor": "white",
           "zerolinewidth": 2
          },
          "yaxis": {
           "automargin": true,
           "gridcolor": "white",
           "linecolor": "white",
           "ticks": "",
           "title": {
            "standoff": 15
           },
           "zerolinecolor": "white",
           "zerolinewidth": 2
          }
         }
        },
        "title": {
         "text": "Correlation Heatmap"
        },
        "xaxis": {
         "anchor": "y",
         "constrain": "domain",
         "domain": [
          0,
          1
         ],
         "scaleanchor": "y",
         "title": {
          "text": "Variables"
         }
        },
        "yaxis": {
         "anchor": "x",
         "autorange": "reversed",
         "constrain": "domain",
         "domain": [
          0,
          1
         ],
         "title": {
          "text": "Variables"
         }
        }
       }
      }
     },
     "metadata": {},
     "output_type": "display_data"
    }
   ],
   "source": [
    "import matplotlib.pyplot as plt \n",
    "import plotly.express as px\n",
    "\n",
    "\n",
    "fig = px.imshow(X.corr())\n",
    "fig.update_layout(\n",
    "    title='Correlation Heatmap',\n",
    "    xaxis_title='Variables',\n",
    "    yaxis_title='Variables'\n",
    "    \n",
    ")\n",
    "fig.show()\n"
   ]
  },
  {
   "cell_type": "code",
   "execution_count": 56,
   "metadata": {},
   "outputs": [
    {
     "name": "stdout",
     "output_type": "stream",
     "text": [
      "Condition Number: 20.804926672534755\n"
     ]
    }
   ],
   "source": [
    "# condition no \n",
    "\n",
    "corr=X.corr()\n",
    "eigenvalues,_= np.linalg.eig(corr)\n",
    "condition_number = np.sqrt(max(eigenvalues) / min(eigenvalues))\n",
    "print(\"Condition Number:\", condition_number)"
   ]
  },
  {
   "cell_type": "code",
   "execution_count": 57,
   "metadata": {},
   "outputs": [
    {
     "name": "stdout",
     "output_type": "stream",
     "text": [
      "  Variable         VIF\n",
      "0       X1   46.522625\n",
      "1       X2   38.671562\n",
      "2       X3  142.560203\n",
      "3       X4  180.733366\n",
      "4       X5  211.024164\n",
      "5       X6  641.678075\n",
      "6       X7   50.802769\n",
      "7       X8   50.053532\n",
      "8       X9  169.516924\n",
      "9      X10    5.101197\n"
     ]
    }
   ],
   "source": [
    "import pandas as pd\n",
    "from statsmodels.stats.outliers_influence import variance_inflation_factor\n",
    "\n",
    "vif = pd.DataFrame()\n",
    "vif[\"Variable\"] = X.columns\n",
    "vif[\"VIF\"] = [variance_inflation_factor(X.values, i) for i in range(X.shape[1])]\n",
    "\n",
    "print(vif)\n"
   ]
  },
  {
   "cell_type": "code",
   "execution_count": 93,
   "metadata": {},
   "outputs": [
    {
     "name": "stdout",
     "output_type": "stream",
     "text": [
      "   Variable        VIF\n",
      "0     const  19.148367\n",
      "1        X1  11.869538\n",
      "2        X2  11.116347\n",
      "3        X3  24.289018\n",
      "4        X4  50.042092\n",
      "5        X5  53.889014\n",
      "6        X6  73.013502\n",
      "7        X7  12.933308\n",
      "8        X8  13.135208\n",
      "9        X9  27.152415\n",
      "10      X10   1.270739\n"
     ]
    }
   ],
   "source": [
    "x=sm.add_constant(X)\n",
    "# Calculate the VIF values\n",
    "vif = pd.DataFrame()\n",
    "vif[\"Variable\"] = x.columns\n",
    "vif[\"VIF\"] = [variance_inflation_factor(x.values, i) for i in range(x.shape[1])]\n",
    "\n",
    "print(vif)"
   ]
  },
  {
   "attachments": {},
   "cell_type": "markdown",
   "metadata": {},
   "source": [
    "# copying data for other experiment "
   ]
  },
  {
   "cell_type": "code",
   "execution_count": 78,
   "metadata": {},
   "outputs": [],
   "source": [
    "X_copy=X.copy()"
   ]
  },
  {
   "cell_type": "code",
   "execution_count": 70,
   "metadata": {},
   "outputs": [
    {
     "data": {
      "text/html": [
       "<div>\n",
       "<style scoped>\n",
       "    .dataframe tbody tr th:only-of-type {\n",
       "        vertical-align: middle;\n",
       "    }\n",
       "\n",
       "    .dataframe tbody tr th {\n",
       "        vertical-align: top;\n",
       "    }\n",
       "\n",
       "    .dataframe thead th {\n",
       "        text-align: right;\n",
       "    }\n",
       "</style>\n",
       "<table border=\"1\" class=\"dataframe\">\n",
       "  <thead>\n",
       "    <tr style=\"text-align: right;\">\n",
       "      <th></th>\n",
       "      <th>X1</th>\n",
       "      <th>X2</th>\n",
       "      <th>X3</th>\n",
       "      <th>X4</th>\n",
       "      <th>X5</th>\n",
       "      <th>X6</th>\n",
       "      <th>X7</th>\n",
       "      <th>X8</th>\n",
       "      <th>X9</th>\n",
       "      <th>X10</th>\n",
       "    </tr>\n",
       "  </thead>\n",
       "  <tbody>\n",
       "    <tr>\n",
       "      <th>0</th>\n",
       "      <td>51</td>\n",
       "      <td>25</td>\n",
       "      <td>61.846293</td>\n",
       "      <td>1</td>\n",
       "      <td>15</td>\n",
       "      <td>14.911594</td>\n",
       "      <td>61</td>\n",
       "      <td>11</td>\n",
       "      <td>51.977924</td>\n",
       "      <td>88</td>\n",
       "    </tr>\n",
       "    <tr>\n",
       "      <th>1</th>\n",
       "      <td>92</td>\n",
       "      <td>88</td>\n",
       "      <td>175.793547</td>\n",
       "      <td>89</td>\n",
       "      <td>50</td>\n",
       "      <td>144.493884</td>\n",
       "      <td>64</td>\n",
       "      <td>89</td>\n",
       "      <td>158.477138</td>\n",
       "      <td>96</td>\n",
       "    </tr>\n",
       "    <tr>\n",
       "      <th>2</th>\n",
       "      <td>14</td>\n",
       "      <td>59</td>\n",
       "      <td>69.572855</td>\n",
       "      <td>16</td>\n",
       "      <td>85</td>\n",
       "      <td>105.127082</td>\n",
       "      <td>31</td>\n",
       "      <td>45</td>\n",
       "      <td>79.122026</td>\n",
       "      <td>59</td>\n",
       "    </tr>\n",
       "    <tr>\n",
       "      <th>3</th>\n",
       "      <td>71</td>\n",
       "      <td>40</td>\n",
       "      <td>102.977227</td>\n",
       "      <td>32</td>\n",
       "      <td>56</td>\n",
       "      <td>92.067548</td>\n",
       "      <td>33</td>\n",
       "      <td>33</td>\n",
       "      <td>65.320729</td>\n",
       "      <td>42</td>\n",
       "    </tr>\n",
       "    <tr>\n",
       "      <th>4</th>\n",
       "      <td>60</td>\n",
       "      <td>28</td>\n",
       "      <td>86.387143</td>\n",
       "      <td>8</td>\n",
       "      <td>28</td>\n",
       "      <td>42.527394</td>\n",
       "      <td>91</td>\n",
       "      <td>48</td>\n",
       "      <td>140.898595</td>\n",
       "      <td>75</td>\n",
       "    </tr>\n",
       "    <tr>\n",
       "      <th>...</th>\n",
       "      <td>...</td>\n",
       "      <td>...</td>\n",
       "      <td>...</td>\n",
       "      <td>...</td>\n",
       "      <td>...</td>\n",
       "      <td>...</td>\n",
       "      <td>...</td>\n",
       "      <td>...</td>\n",
       "      <td>...</td>\n",
       "      <td>...</td>\n",
       "    </tr>\n",
       "    <tr>\n",
       "      <th>95</th>\n",
       "      <td>84</td>\n",
       "      <td>76</td>\n",
       "      <td>163.853174</td>\n",
       "      <td>21</td>\n",
       "      <td>95</td>\n",
       "      <td>119.114250</td>\n",
       "      <td>21</td>\n",
       "      <td>94</td>\n",
       "      <td>121.684523</td>\n",
       "      <td>82</td>\n",
       "    </tr>\n",
       "    <tr>\n",
       "      <th>96</th>\n",
       "      <td>79</td>\n",
       "      <td>2</td>\n",
       "      <td>72.161426</td>\n",
       "      <td>92</td>\n",
       "      <td>23</td>\n",
       "      <td>109.661898</td>\n",
       "      <td>20</td>\n",
       "      <td>23</td>\n",
       "      <td>35.873253</td>\n",
       "      <td>61</td>\n",
       "    </tr>\n",
       "    <tr>\n",
       "      <th>97</th>\n",
       "      <td>81</td>\n",
       "      <td>69</td>\n",
       "      <td>151.537251</td>\n",
       "      <td>66</td>\n",
       "      <td>22</td>\n",
       "      <td>87.288103</td>\n",
       "      <td>69</td>\n",
       "      <td>54</td>\n",
       "      <td>104.402243</td>\n",
       "      <td>31</td>\n",
       "    </tr>\n",
       "    <tr>\n",
       "      <th>98</th>\n",
       "      <td>52</td>\n",
       "      <td>71</td>\n",
       "      <td>123.582087</td>\n",
       "      <td>75</td>\n",
       "      <td>61</td>\n",
       "      <td>136.601478</td>\n",
       "      <td>0</td>\n",
       "      <td>8</td>\n",
       "      <td>9.444247</td>\n",
       "      <td>29</td>\n",
       "    </tr>\n",
       "    <tr>\n",
       "      <th>99</th>\n",
       "      <td>23</td>\n",
       "      <td>26</td>\n",
       "      <td>37.570297</td>\n",
       "      <td>25</td>\n",
       "      <td>95</td>\n",
       "      <td>122.572194</td>\n",
       "      <td>4</td>\n",
       "      <td>2</td>\n",
       "      <td>27.148573</td>\n",
       "      <td>28</td>\n",
       "    </tr>\n",
       "  </tbody>\n",
       "</table>\n",
       "<p>100 rows × 10 columns</p>\n",
       "</div>"
      ],
      "text/plain": [
       "    X1  X2          X3  X4  X5          X6  X7  X8          X9  X10\n",
       "0   51  25   61.846293   1  15   14.911594  61  11   51.977924   88\n",
       "1   92  88  175.793547  89  50  144.493884  64  89  158.477138   96\n",
       "2   14  59   69.572855  16  85  105.127082  31  45   79.122026   59\n",
       "3   71  40  102.977227  32  56   92.067548  33  33   65.320729   42\n",
       "4   60  28   86.387143   8  28   42.527394  91  48  140.898595   75\n",
       "..  ..  ..         ...  ..  ..         ...  ..  ..         ...  ...\n",
       "95  84  76  163.853174  21  95  119.114250  21  94  121.684523   82\n",
       "96  79   2   72.161426  92  23  109.661898  20  23   35.873253   61\n",
       "97  81  69  151.537251  66  22   87.288103  69  54  104.402243   31\n",
       "98  52  71  123.582087  75  61  136.601478   0   8    9.444247   29\n",
       "99  23  26   37.570297  25  95  122.572194   4   2   27.148573   28\n",
       "\n",
       "[100 rows x 10 columns]"
      ]
     },
     "execution_count": 70,
     "metadata": {},
     "output_type": "execute_result"
    }
   ],
   "source": [
    "X_copy"
   ]
  },
  {
   "cell_type": "code",
   "execution_count": 81,
   "metadata": {},
   "outputs": [
    {
     "name": "stdout",
     "output_type": "stream",
     "text": [
      "  Variable       VIF\n",
      "0       X1  3.463341\n",
      "1       X2  3.004031\n",
      "2       X7  3.890181\n",
      "3       X8  3.432828\n",
      "4      X10  4.484383\n"
     ]
    }
   ],
   "source": [
    "vif1 = pd.DataFrame()\n",
    "vif1[\"Variable\"] = X_copy.columns\n",
    "vif1[\"VIF\"] = [variance_inflation_factor(X_copy.values, i) for i in range(X_copy.shape[1])]\n",
    "\n",
    "print(vif1)"
   ]
  },
  {
   "cell_type": "code",
   "execution_count": 82,
   "metadata": {},
   "outputs": [
    {
     "name": "stdout",
     "output_type": "stream",
     "text": [
      "  Variable       VIF\n",
      "0       X1  1.021426\n",
      "1       X2  1.010792\n",
      "2       X7  1.100563\n",
      "3       X8  1.030902\n",
      "4      X10  1.123538\n"
     ]
    }
   ],
   "source": [
    "correlation_matrix=X_copy.corr()\n",
    "inv_correlation_matrix = np.linalg.inv(correlation_matrix.values)\n",
    "vif = np.diagonal(inv_correlation_matrix)\n",
    "vif_df = pd.DataFrame({'Variable': X_copy.columns, 'VIF': vif})\n",
    "print(vif_df)"
   ]
  },
  {
   "cell_type": "code",
   "execution_count": 79,
   "metadata": {},
   "outputs": [],
   "source": [
    "X_copy.drop(columns=['X6','X9','X4','X5','X3'],inplace=True)"
   ]
  },
  {
   "cell_type": "code",
   "execution_count": 80,
   "metadata": {},
   "outputs": [
    {
     "name": "stdout",
     "output_type": "stream",
     "text": [
      "  Variable       VIF\n",
      "0       X1  1.021426\n",
      "1       X2  1.010792\n",
      "2       X7  1.100563\n",
      "3       X8  1.030902\n",
      "4      X10  1.123538\n"
     ]
    }
   ],
   "source": [
    "correlation_matriX_copy=X_copy.corr()\n",
    "inv_correlation_matriX_copy = np.linalg.inv(correlation_matriX_copy.values)\n",
    "vif = np.diagonal(inv_correlation_matriX_copy)\n",
    "vif_df = pd.DataFrame({'Variable': X_copy.columns, 'VIF': vif})\n",
    "print(vif_df)"
   ]
  },
  {
   "cell_type": "code",
   "execution_count": 84,
   "metadata": {},
   "outputs": [
    {
     "name": "stdout",
     "output_type": "stream",
     "text": [
      "93.21258122188482\n"
     ]
    }
   ],
   "source": [
    "# condition no\n",
    "\n",
    "condition_number = np.linalg.cond(X)\n",
    "print(condition_number)"
   ]
  },
  {
   "cell_type": "code",
   "execution_count": 86,
   "metadata": {},
   "outputs": [
    {
     "name": "stdout",
     "output_type": "stream",
     "text": [
      "Condition Number: 93.21258122188482\n"
     ]
    }
   ],
   "source": [
    "# relationship with svd\n",
    "singular_values = np.linalg.svd(X, compute_uv=False)\n",
    "\n",
    "condition_number = np.max(singular_values) / np.min(singular_values)\n",
    "\n",
    "print(\"Condition Number:\", condition_number)"
   ]
  },
  {
   "cell_type": "code",
   "execution_count": 90,
   "metadata": {},
   "outputs": [
    {
     "name": "stdout",
     "output_type": "stream",
     "text": [
      "   Variable        VIF\n",
      "0     const  19.148367\n",
      "1        X1  11.869538\n",
      "2        X2  11.116347\n",
      "3        X3  24.289018\n",
      "4        X4  50.042092\n",
      "5        X5  53.889014\n",
      "6        X6  73.013502\n",
      "7        X7  12.933308\n",
      "8        X8  13.135208\n",
      "9        X9  27.152415\n",
      "10      X10   1.270739\n"
     ]
    }
   ],
   "source": [
    "\n",
    "\n"
   ]
  },
  {
   "cell_type": "code",
   "execution_count": 154,
   "metadata": {},
   "outputs": [],
   "source": [
    "x=sm.add_constant(X)\n",
    "model = sm.OLS (y,x).fit()\n"
   ]
  },
  {
   "cell_type": "code",
   "execution_count": 155,
   "metadata": {},
   "outputs": [
    {
     "name": "stdout",
     "output_type": "stream",
     "text": [
      "                            OLS Regression Results                            \n",
      "==============================================================================\n",
      "Dep. Variable:                      y   R-squared:                       1.000\n",
      "Model:                            OLS   Adj. R-squared:                  1.000\n",
      "Method:                 Least Squares   F-statistic:                 2.768e+04\n",
      "Date:                Fri, 09 Jun 2023   Prob (F-statistic):          7.41e-151\n",
      "Time:                        01:09:09   Log-Likelihood:                -440.10\n",
      "No. Observations:                 100   AIC:                             902.2\n",
      "Df Residuals:                      89   BIC:                             930.8\n",
      "Df Model:                          10                                         \n",
      "Covariance Type:            nonrobust                                         \n",
      "==============================================================================\n",
      "                 coef    std err          t      P>|t|      [0.025      0.975]\n",
      "------------------------------------------------------------------------------\n",
      "const          4.9069      9.151      0.536      0.593     -13.275      23.089\n",
      "X1             2.3559      0.246      9.574      0.000       1.867       2.845\n",
      "X2             3.3124      0.234     14.171      0.000       2.848       3.777\n",
      "X3             3.7509      0.232     16.163      0.000       3.290       4.212\n",
      "X4             4.3568      0.507      8.599      0.000       3.350       5.364\n",
      "X5             5.3641      0.509     10.545      0.000       4.353       6.375\n",
      "X6             7.5143      0.501     14.992      0.000       6.518       8.510\n",
      "X7             8.0798      0.256     31.533      0.000       7.571       8.589\n",
      "X8             8.9962      0.258     34.878      0.000       8.484       9.509\n",
      "X9             9.9870      0.251     39.791      0.000       9.488      10.486\n",
      "X10           10.9748      0.087    126.004      0.000      10.802      11.148\n",
      "==============================================================================\n",
      "Omnibus:                        7.326   Durbin-Watson:                   2.100\n",
      "Prob(Omnibus):                  0.026   Jarque-Bera (JB):                8.994\n",
      "Skew:                          -0.374   Prob(JB):                       0.0111\n",
      "Kurtosis:                       4.265   Cond. No.                         975.\n",
      "==============================================================================\n",
      "\n",
      "Notes:\n",
      "[1] Standard Errors assume that the covariance matrix of the errors is correctly specified.\n"
     ]
    }
   ],
   "source": [
    "print(model.summary())"
   ]
  },
  {
   "attachments": {},
   "cell_type": "markdown",
   "metadata": {},
   "source": [
    "# Standard error "
   ]
  },
  {
   "cell_type": "code",
   "execution_count": 156,
   "metadata": {},
   "outputs": [],
   "source": [
    "Mse=np.mean((model.resid)**2)"
   ]
  },
  {
   "cell_type": "code",
   "execution_count": 157,
   "metadata": {},
   "outputs": [],
   "source": [
    "standard_errors = np.sqrt(Mse*np.diagonal(np.linalg.inv(np.dot(x.T,x))))"
   ]
  },
  {
   "cell_type": "code",
   "execution_count": 158,
   "metadata": {},
   "outputs": [
    {
     "data": {
      "text/plain": [
       "array([8.63257078, 0.23213622, 0.22052386, 0.21893382, 0.47801352,\n",
       "       0.47991689, 0.47284463, 0.24172677, 0.24333452, 0.23678095,\n",
       "       0.08216917])"
      ]
     },
     "execution_count": 158,
     "metadata": {},
     "output_type": "execute_result"
    }
   ],
   "source": [
    "standard_errors"
   ]
  },
  {
   "cell_type": "code",
   "execution_count": 164,
   "metadata": {},
   "outputs": [
    {
     "name": "stdout",
     "output_type": "stream",
     "text": [
      "const      0.568412\n",
      "X1        10.148727\n",
      "X2        15.020794\n",
      "X3        17.132652\n",
      "X4         9.114397\n",
      "X5        11.177150\n",
      "X6        15.891594\n",
      "X7        33.425361\n",
      "X8        36.970393\n",
      "X9        42.178337\n",
      "X10      133.563864\n",
      "dtype: float64\n"
     ]
    }
   ],
   "source": [
    "# T-test \n",
    "t_stats=model.params/standard_errors\n",
    "\n",
    "print(t_stats)"
   ]
  },
  {
   "cell_type": "code",
   "execution_count": null,
   "metadata": {},
   "outputs": [],
   "source": [
    "1-cdf()"
   ]
  },
  {
   "cell_type": "code",
   "execution_count": 167,
   "metadata": {},
   "outputs": [],
   "source": [
    "# sf is same as 1-cdf \n",
    "p_values = stats.t.sf(np.abs(t_stats), model.df_resid)*2"
   ]
  },
  {
   "cell_type": "code",
   "execution_count": 168,
   "metadata": {},
   "outputs": [
    {
     "name": "stdout",
     "output_type": "stream",
     "text": [
      "[5.71186596e-001 1.57948440e-016 3.91262949e-026 6.33066851e-030\n",
      " 2.17723077e-014 1.23133392e-018 9.98766004e-028 3.68220025e-052\n",
      " 8.49396062e-056 1.28187775e-060 2.46854344e-104]\n"
     ]
    }
   ],
   "source": [
    "print(p_values)"
   ]
  },
  {
   "cell_type": "code",
   "execution_count": 181,
   "metadata": {},
   "outputs": [],
   "source": [
    "n,p=X.shape\n",
    "coefficient_estimate=model.params"
   ]
  },
  {
   "cell_type": "code",
   "execution_count": null,
   "metadata": {},
   "outputs": [],
   "source": []
  },
  {
   "cell_type": "code",
   "execution_count": 187,
   "metadata": {},
   "outputs": [
    {
     "data": {
      "text/plain": [
       "const    -9.441816\n",
       "X1        1.970041\n",
       "X2        2.945898\n",
       "X3        3.387015\n",
       "X4        3.562272\n",
       "X5        4.566407\n",
       "X6        6.728313\n",
       "X7        7.678017\n",
       "X8        8.591713\n",
       "X9        9.593460\n",
       "X10      10.838254\n",
       "dtype: float64"
      ]
     },
     "execution_count": 187,
     "metadata": {},
     "output_type": "execute_result"
    }
   ],
   "source": [
    "df = n - p- 1\n",
    "confidnce_level = 0.95\n",
    "t_critical = stats.t.ppf(confidnce_level, df)\n",
    "\n",
    "margin_of_error = t_critical * standard_errors\n",
    "lower_bound = coefficient_estimate - margin_of_error\n",
    "upper_bound = coefficient_estimate + margin_of_error\n",
    "\n"
   ]
  },
  {
   "cell_type": "code",
   "execution_count": 203,
   "metadata": {},
   "outputs": [
    {
     "name": "stdout",
     "output_type": "stream",
     "text": [
      "[-9.441815611325094, 19.2555313745037]\n",
      "[1.970040575473348, 2.7417334753033558]\n",
      "[2.945898493938899, 3.678988319261236]\n",
      "[3.3870149456658316, 4.114818965894352]\n",
      "[3.562272100081503, 5.151337543491331]\n",
      "[4.566406536198036, 6.161799370087531]\n",
      "[6.728313450382924, 8.300195885805579]\n",
      "[7.678017232267454, 8.481592124825507]\n",
      "[8.591713149319046, 9.40063269988278]\n",
      "[9.593459792931256, 10.380593218142629]\n",
      "[10.83825432393635, 11.111410182002114]\n"
     ]
    }
   ],
   "source": [
    "for i in range(11):\n",
    "    print([lower_bound[i] , upper_bound[i]])"
   ]
  },
  {
   "cell_type": "code",
   "execution_count": 4,
   "metadata": {},
   "outputs": [],
   "source": [
    "import numpy as np \n",
    "data=np.random.randint(1,100,1000)"
   ]
  },
  {
   "cell_type": "code",
   "execution_count": 6,
   "metadata": {},
   "outputs": [],
   "source": []
  },
  {
   "cell_type": "code",
   "execution_count": 14,
   "metadata": {},
   "outputs": [
    {
     "data": {
      "text/plain": [
       "27.84300542326564"
      ]
     },
     "execution_count": 14,
     "metadata": {},
     "output_type": "execute_result"
    }
   ],
   "source": [
    "data.mean()\n",
    "data.std()"
   ]
  },
  {
   "cell_type": "code",
   "execution_count": 21,
   "metadata": {},
   "outputs": [
    {
     "data": {
      "text/plain": [
       "27.655761710084953"
      ]
     },
     "execution_count": 21,
     "metadata": {},
     "output_type": "execute_result"
    }
   ],
   "source": [
    "sample_mean=sample.mean(axis=0)\n",
    "np.mean(sample.std(axis=0))"
   ]
  },
  {
   "cell_type": "code",
   "execution_count": null,
   "metadata": {},
   "outputs": [],
   "source": []
  }
 ],
 "metadata": {
  "kernelspec": {
   "display_name": "Python 3",
   "language": "python",
   "name": "python3"
  },
  "language_info": {
   "codemirror_mode": {
    "name": "ipython",
    "version": 3
   },
   "file_extension": ".py",
   "mimetype": "text/x-python",
   "name": "python",
   "nbconvert_exporter": "python",
   "pygments_lexer": "ipython3",
   "version": "3.10.7"
  },
  "orig_nbformat": 4
 },
 "nbformat": 4,
 "nbformat_minor": 2
}
